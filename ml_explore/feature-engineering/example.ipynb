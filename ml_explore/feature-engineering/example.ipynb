{
 "cells": [
  {
   "cell_type": "code",
   "execution_count": null,
   "metadata": {},
   "outputs": [],
   "source": [
    "%%time\n",
    "import numpy as np\n",
    "import pandas as pd\n",
    "import seaborn as sns\n",
    "sns.set_style('whitegrid')\n",
    "import os\n",
    "import sys\n",
    "import time\n",
    "import datetime\n",
    "from tqdm import tqdm\n",
    "import lightgbm as lgb\n",
    "import operator\n",
    "import xgboost as xgb\n",
    "import matplotlib.pyplot as plt\n",
    "from catboost import CatBoostRegressor\n",
    "from sklearn.preprocessing import StandardScaler\n",
    "from sklearn.model_selection import StratifiedKFold, KFold, RepeatedKFold\n",
    "from sklearn.model_selection import GridSearchCV\n",
    "from sklearn import metrics\n",
    "from imblearn.under_sampling import RandomUnderSampler\n",
    "import warnings\n",
    "from imblearn.over_sampling import SMOTE\n",
    "from scipy.stats import ks_2samp\n",
    "from sklearn import manifold\n",
    "warnings.filterwarnings(\"ignore\")\n",
    "\n",
    "print(os.listdir(\"../input\"))\n",
    "train = pd.read_csv('../input/train.csv')\n",
    "test = pd.read_csv('../input/test.csv')"
   ]
  },
  {
   "cell_type": "markdown",
   "metadata": {},
   "source": [
    "### 1. 查看数据大小"
   ]
  },
  {
   "cell_type": "code",
   "execution_count": null,
   "metadata": {},
   "outputs": [],
   "source": [
    "print('%%%%%%%%%%%%%%%%%%%%%%%%%%%%%%%%%%%%%%%%%%%%%%%%%%%%%%%%%%%%%%%%%%%')\n",
    "#数据大小\n",
    "print('Rows: ',train.shape[0],'Columns: ',train.shape[1])\n",
    "print(train.head())\n",
    "print('Rows: ',test.shape[0],'Columns: ',test.shape[1])\n",
    "print(test.head())"
   ]
  },
  {
   "cell_type": "markdown",
   "metadata": {},
   "source": [
    "### 2. 查看label分布"
   ]
  },
  {
   "cell_type": "code",
   "execution_count": null,
   "metadata": {},
   "outputs": [],
   "source": [
    "print('%%%%%%%%%%%%%%%%%%%%%%%%%%%%%%%%%%%%%%%%%%%%%%%%%%%%%%%%%%%%%%%%%%%')\n",
    "#label的分布\n",
    "print(train['target'].value_counts())\n",
    "sns.countplot(train['target'])\n",
    "sns.set_style('whitegrid')"
   ]
  },
  {
   "cell_type": "markdown",
   "metadata": {},
   "source": [
    "### 3. 查看特征缺失值\n",
    "\n",
    " ```\n",
    "简单数据预处理\n",
    "\n",
    "数据缺失\n",
    " 1.如果缺值的样本占总数比例极高，直接舍弃；\n",
    " 2.非连续值特征属性，把NAN作为一个新的类别加入；\n",
    " 3.连续值特征属性，通过一个step离散化数据，之后把NAN作为一个type加到属性中；\n",
    "\n",
    "使用scikit-learn 中的RandomForest来拟合缺失的年龄数据\n",
    "RandomForest是一个用在原始数据中做不同采样，建立多颗DecisionTree，\n",
    "再进行average等等来降低过拟合现象，提高结果的机器学习算法\n",
    " ```"
   ]
  },
  {
   "cell_type": "code",
   "execution_count": null,
   "metadata": {},
   "outputs": [],
   "source": [
    "#每个特征的缺省值\n",
    "total = train.isnull().sum().sort_values(ascending = False)\n",
    "percent = (train.isnull().sum()/train.isnull().count()*100).sort_values(ascending = False)\n",
    "missing_train_data  = pd.concat([total, percent], axis=1, keys=['Total', 'Percent'])\n",
    "print(missing_train_data)"
   ]
  },
  {
   "cell_type": "markdown",
   "metadata": {},
   "source": [
    "### 4. 查看特征取值个数"
   ]
  },
  {
   "cell_type": "code",
   "execution_count": null,
   "metadata": {},
   "outputs": [],
   "source": [
    "print('%%%%%%%%%%%%%%%%%%%%%%%%%%%%%%%%%%%%%%%%%%%%%%%%%%%%%%%%%%%%%%%%%%%')\n",
    "#每个特征下的数据取值不同个数\n",
    "for col in train.columns[2:]:\n",
    "    print(\"Number of unique values of {} : {}\".format(col, train[col].nunique()))\n",
    "#看一下var_68这个特征\n",
    "print('-------------------------------')\n",
    "print(train['var_68'].value_counts()) \n",
    "print('-------------------------------')\n",
    "print(test['var_68'].value_counts()) "
   ]
  },
  {
   "cell_type": "markdown",
   "metadata": {},
   "source": [
    "### 5. 查看每个特征与label之间的相关系数"
   ]
  },
  {
   "cell_type": "code",
   "execution_count": null,
   "metadata": {},
   "outputs": [],
   "source": [
    "print('%%%%%%%%%%%%%%%%%%%%%%%%%%%%%%%%%%%%%%%%%%%%%%%%%%%%%%%%%%%%%%%%%%%')\n",
    "#每一个特征和label之间的相关系数\n",
    "corr = train.corr()\n",
    "print(abs(corr['target']).sort_values(ascending=False))"
   ]
  },
  {
   "cell_type": "code",
   "execution_count": null,
   "metadata": {},
   "outputs": [],
   "source": [
    "print('%%%%%%%%%%%%%%%%%%%%%%%%%%%%%%%%%%%%%%%%%%%%%%%%%%%%%%%%%%%%%%%%%%%')\n",
    "#每一个特征和label之间的相关可视化\n",
    "target_mask = train['target'] == 1\n",
    "non_target_mask = train['target'] == 0 \n",
    "statistics_array = []\n",
    "for col in train.columns[2:]:\n",
    "    statistic, pvalue = ks_2samp(train.loc[non_target_mask, col], train.loc[target_mask, col])\n",
    "    statistics_array.append(statistic)\n",
    "    fig, ax = plt.subplots(1, 1, figsize=(10, 4))\n",
    "    sns.kdeplot(train.loc[non_target_mask, col], ax=ax, label='Target == 0')\n",
    "    sns.kdeplot(train.loc[target_mask, col], ax=ax, label='Target == 1')\n",
    "\n",
    "    ax.set_title('name: {}, statistics: {:.5f}, pvalue: {:5f}'.format(col, statistic, pvalue))\n",
    "    plt.show()"
   ]
  }
 ],
 "metadata": {
  "kernelspec": {
   "display_name": "Python 3",
   "language": "python",
   "name": "python3"
  },
  "language_info": {
   "codemirror_mode": {
    "name": "ipython",
    "version": 3
   },
   "file_extension": ".py",
   "mimetype": "text/x-python",
   "name": "python",
   "nbconvert_exporter": "python",
   "pygments_lexer": "ipython3",
   "version": "3.7.4"
  }
 },
 "nbformat": 4,
 "nbformat_minor": 2
}
